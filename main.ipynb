{
 "cells": [
  {
   "cell_type": "code",
   "execution_count": 1,
   "metadata": {},
   "outputs": [],
   "source": [
    "from bs4 import BeautifulSoup as soup\n",
    "from app import *"
   ]
  },
  {
   "cell_type": "code",
   "execution_count": 16,
   "metadata": {},
   "outputs": [],
   "source": [
    "scrape = {\n",
    "    \"path\": \"C:/Users/Andre/Documents/scrape/\",\n",
    "    \"cities\": ['tokyo', 'osaka', 'fukuoka'],\n",
    "    \"pages\": 2\n",
    "}"
   ]
  },
  {
   "cell_type": "code",
   "execution_count": 19,
   "metadata": {},
   "outputs": [
    {
     "name": "stdout",
     "output_type": "stream",
     "text": [
      "CSV file tokyo_rstLst_1 created!\n",
      "CSV file osaka_rstLst_1 created!\n",
      "CSV file fukuoka_rstLst_1 created!\n"
     ]
    }
   ],
   "source": [
    "for city in scrape['cities']:\n",
    "    page_list = []\n",
    "    restaurant_links = []\n",
    "    for page in range(1, scrape['pages']):\n",
    "        page_list.append(f\"https://tabelog.com/en/{city}/rstLst/{page}/?SrtT=rt\")\n",
    "    for link in page_list:\n",
    "        html = scraper.fetch_url(link)\n",
    "        parsed_content = scraper.parse_html(html)\n",
    "#create a list of urls to parse\n",
    "        for link in parsed_content.find_all(\"a\", class_='list-rst__name-main', href=True):\n",
    "            restaurant_links.append(link[\"href\"])\n",
    "    restaurants = []\n",
    "    for restaurant in restaurant_links[0:3]:\n",
    "        html = scraper.fetch_url(restaurant)\n",
    "        parsed_content = scraper.parse_html(html)\n",
    "        restaurant_values = scraper.extract_restaurant(parsed_content)\n",
    "        restaurants.append(restaurant_values)\n",
    "\n",
    "    naming = \"_\".join(page_list[0].split(\"/\")[4:7])\n",
    "    database.write_to_csv(restaurants, naming, scrape['path'])\n"
   ]
  },
  {
   "cell_type": "code",
   "execution_count": 24,
   "metadata": {},
   "outputs": [],
   "source": [
    "path = \"C:/Users/Andre/Documents/scrape/\""
   ]
  },
  {
   "cell_type": "code",
   "execution_count": 25,
   "metadata": {},
   "outputs": [
    {
     "name": "stdout",
     "output_type": "stream",
     "text": [
      "CSV file tokyo_rstLst_1 created!\n"
     ]
    }
   ],
   "source": [
    "\n"
   ]
  },
  {
   "cell_type": "code",
   "execution_count": 9,
   "metadata": {},
   "outputs": [
    {
     "data": {
      "text/plain": [
       "[]"
      ]
     },
     "execution_count": 9,
     "metadata": {},
     "output_type": "execute_result"
    }
   ],
   "source": [
    "parsed_content.find_all(\"a\", class_='list-rst__name', href=True)"
   ]
  },
  {
   "cell_type": "code",
   "execution_count": 7,
   "metadata": {},
   "outputs": [],
   "source": [
    "url = \"https://tabelog.com/en/fukuoka/A4001/A400104/40044173/dtlmap/\"\n",
    "html = scraper.fetch_url(url)\n",
    "parsed_content = scraper.parse_html(html)\n",
    "test = scraper.extract_restaurant(parsed_content)"
   ]
  },
  {
   "cell_type": "code",
   "execution_count": 8,
   "metadata": {},
   "outputs": [],
   "source": [
    "\n"
   ]
  },
  {
   "cell_type": "code",
   "execution_count": 11,
   "metadata": {},
   "outputs": [
    {
     "data": {
      "text/plain": [
       "'1-chome-33-6 Nihonbashikakigaracho Chuo City Tokyo-to'"
      ]
     },
     "execution_count": 11,
     "metadata": {},
     "output_type": "execute_result"
    }
   ],
   "source": [
    "parsed_content.find(\"p\", class_=\"rd-detail-info__rst-address\").get_text().strip()\n"
   ]
  },
  {
   "cell_type": "code",
   "execution_count": 12,
   "metadata": {},
   "outputs": [],
   "source": [
    "budget = parsed_content.find_all(\"b\", class_=\"c-rating__val\")[2].get_text()"
   ]
  },
  {
   "cell_type": "code",
   "execution_count": 13,
   "metadata": {},
   "outputs": [],
   "source": [
    "id = parsed_content.find(\"a\", class_=\"global-headbar__nav-target\").get_attribute_list(\"href\")[0].split('/')[-2]"
   ]
  },
  {
   "cell_type": "code",
   "execution_count": null,
   "metadata": {},
   "outputs": [],
   "source": []
  },
  {
   "cell_type": "code",
   "execution_count": null,
   "metadata": {},
   "outputs": [],
   "source": []
  }
 ],
 "metadata": {
  "kernelspec": {
   "display_name": "Python 3",
   "language": "python",
   "name": "python3"
  },
  "language_info": {
   "codemirror_mode": {
    "name": "ipython",
    "version": 3
   },
   "file_extension": ".py",
   "mimetype": "text/x-python",
   "name": "python",
   "nbconvert_exporter": "python",
   "pygments_lexer": "ipython3",
   "version": "3.8.10"
  },
  "orig_nbformat": 4
 },
 "nbformat": 4,
 "nbformat_minor": 2
}
